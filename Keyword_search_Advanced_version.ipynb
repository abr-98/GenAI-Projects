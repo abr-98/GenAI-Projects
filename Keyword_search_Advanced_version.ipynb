{
  "metadata": {
    "kernelspec": {
      "language": "python",
      "display_name": "Python 3",
      "name": "python3"
    },
    "language_info": {
      "name": "python",
      "version": "3.11.11",
      "mimetype": "text/x-python",
      "codemirror_mode": {
        "name": "ipython",
        "version": 3
      },
      "pygments_lexer": "ipython3",
      "nbconvert_exporter": "python",
      "file_extension": ".py"
    },
    "kaggle": {
      "accelerator": "nvidiaTeslaT4",
      "dataSources": [
        {
          "sourceId": 4853,
          "databundleVersionId": 36114,
          "sourceType": "competition"
        }
      ],
      "dockerImageVersionId": 31011,
      "isInternetEnabled": true,
      "language": "python",
      "sourceType": "notebook",
      "isGpuEnabled": true
    },
    "colab": {
      "name": "Keyword search-Advanced version",
      "provenance": []
    }
  },
  "nbformat_minor": 0,
  "nbformat": 4,
  "cells": [
    {
      "source": [
        "# IMPORTANT: SOME KAGGLE DATA SOURCES ARE PRIVATE\n",
        "# RUN THIS CELL IN ORDER TO IMPORT YOUR KAGGLE DATA SOURCES.\n",
        "import kagglehub\n",
        "kagglehub.login()\n"
      ],
      "metadata": {
        "id": "_WNdvXWL38BK"
      },
      "cell_type": "code",
      "outputs": [],
      "execution_count": null
    },
    {
      "source": [
        "# IMPORTANT: RUN THIS CELL IN ORDER TO IMPORT YOUR KAGGLE DATA SOURCES,\n",
        "# THEN FEEL FREE TO DELETE THIS CELL.\n",
        "# NOTE: THIS NOTEBOOK ENVIRONMENT DIFFERS FROM KAGGLE'S PYTHON\n",
        "# ENVIRONMENT SO THERE MAY BE MISSING LIBRARIES USED BY YOUR\n",
        "# NOTEBOOK.\n",
        "\n",
        "home_depot_product_search_relevance_path = kagglehub.competition_download('home-depot-product-search-relevance')\n",
        "\n",
        "print('Data source import complete.')\n"
      ],
      "metadata": {
        "id": "UyXWVU8X38BL"
      },
      "cell_type": "code",
      "outputs": [],
      "execution_count": null
    },
    {
      "cell_type": "code",
      "source": [
        "import pandas as pd\n",
        "import numpy as np\n",
        "import matplotlib.pyplot as plt\n",
        "from sklearn.ensemble import RandomForestRegressor, BaggingRegressor\n",
        "from nltk.stem.snowball import SnowballStemmer"
      ],
      "metadata": {
        "_uuid": "8f2839f25d086af736a60e9eeb907d3b93b6e0e5",
        "_cell_guid": "b1076dfc-b9ad-4769-8c92-a6c4dae69d19",
        "trusted": true,
        "execution": {
          "iopub.status.busy": "2025-05-05T06:49:46.387457Z",
          "iopub.execute_input": "2025-05-05T06:49:46.388041Z",
          "iopub.status.idle": "2025-05-05T06:49:46.391924Z",
          "shell.execute_reply.started": "2025-05-05T06:49:46.388017Z",
          "shell.execute_reply": "2025-05-05T06:49:46.391192Z"
        },
        "id": "Qh7wVvsS38BM"
      },
      "outputs": [],
      "execution_count": null
    },
    {
      "cell_type": "code",
      "source": [
        "df_train = pd.read_csv('/kaggle/input/home-depot-product-search-relevance/train.csv.zip', encoding = \"ISO-8859-1\")\n",
        "df_test = pd.read_csv('/kaggle/input/home-depot-product-search-relevance/test.csv.zip', encoding = \"ISO-8859-1\")"
      ],
      "metadata": {
        "trusted": true,
        "execution": {
          "iopub.status.busy": "2025-05-05T06:49:47.065476Z",
          "iopub.execute_input": "2025-05-05T06:49:47.06609Z",
          "iopub.status.idle": "2025-05-05T06:49:47.643604Z",
          "shell.execute_reply.started": "2025-05-05T06:49:47.06607Z",
          "shell.execute_reply": "2025-05-05T06:49:47.642864Z"
        },
        "id": "1tilsza_38BM"
      },
      "outputs": [],
      "execution_count": null
    },
    {
      "cell_type": "code",
      "source": [
        "# Detailed product introduction is useful, because we need more corpus information to support our search\n",
        "df_desc = pd.read_csv('/kaggle/input/home-depot-product-search-relevance/product_descriptions.csv.zip')"
      ],
      "metadata": {
        "trusted": true,
        "execution": {
          "iopub.status.busy": "2025-05-05T06:49:48.289377Z",
          "iopub.execute_input": "2025-05-05T06:49:48.289649Z",
          "iopub.status.idle": "2025-05-05T06:49:50.188974Z",
          "shell.execute_reply.started": "2025-05-05T06:49:48.289628Z",
          "shell.execute_reply": "2025-05-05T06:49:50.188197Z"
        },
        "id": "QqKTN5Ba38BM"
      },
      "outputs": [],
      "execution_count": null
    },
    {
      "cell_type": "code",
      "source": [
        "df_train.head()"
      ],
      "metadata": {
        "trusted": true,
        "execution": {
          "iopub.status.busy": "2025-05-05T06:49:53.087764Z",
          "iopub.execute_input": "2025-05-05T06:49:53.088334Z",
          "iopub.status.idle": "2025-05-05T06:49:53.112768Z",
          "shell.execute_reply.started": "2025-05-05T06:49:53.08831Z",
          "shell.execute_reply": "2025-05-05T06:49:53.112177Z"
        },
        "id": "IMC18pZD38BM"
      },
      "outputs": [],
      "execution_count": null
    },
    {
      "cell_type": "code",
      "source": [
        "df_desc.head()"
      ],
      "metadata": {
        "trusted": true,
        "execution": {
          "iopub.status.busy": "2025-05-05T06:49:53.82364Z",
          "iopub.execute_input": "2025-05-05T06:49:53.823888Z",
          "iopub.status.idle": "2025-05-05T06:49:53.830496Z",
          "shell.execute_reply.started": "2025-05-05T06:49:53.823869Z",
          "shell.execute_reply": "2025-05-05T06:49:53.829804Z"
        },
        "id": "LDsPApF938BM"
      },
      "outputs": [],
      "execution_count": null
    },
    {
      "cell_type": "code",
      "source": [
        "# The training set and the test set are merged first to facilitate unified preprocessing\n",
        "df_all = pd.concat((df_train, df_test), axis = 0, ignore_index = True)\n",
        "df_all.head()"
      ],
      "metadata": {
        "trusted": true,
        "execution": {
          "iopub.status.busy": "2025-05-05T06:49:54.454513Z",
          "iopub.execute_input": "2025-05-05T06:49:54.455076Z",
          "iopub.status.idle": "2025-05-05T06:49:54.486231Z",
          "shell.execute_reply.started": "2025-05-05T06:49:54.455052Z",
          "shell.execute_reply": "2025-05-05T06:49:54.485628Z"
        },
        "id": "bxEgJEND38BN"
      },
      "outputs": [],
      "execution_count": null
    },
    {
      "cell_type": "code",
      "source": [
        "df_all.shape"
      ],
      "metadata": {
        "trusted": true,
        "execution": {
          "iopub.status.busy": "2025-05-05T06:49:56.547905Z",
          "iopub.execute_input": "2025-05-05T06:49:56.54818Z",
          "iopub.status.idle": "2025-05-05T06:49:56.553228Z",
          "shell.execute_reply.started": "2025-05-05T06:49:56.548158Z",
          "shell.execute_reply": "2025-05-05T06:49:56.552344Z"
        },
        "id": "4ozSyc7E38BN"
      },
      "outputs": [],
      "execution_count": null
    },
    {
      "cell_type": "code",
      "source": [
        "# The product introduction information also needs to be merged\n",
        "df_all = pd.merge(df_all, df_desc, how = 'left', on = 'product_uid')\n",
        "df_all.head()"
      ],
      "metadata": {
        "trusted": true,
        "execution": {
          "iopub.status.busy": "2025-05-05T06:49:59.261888Z",
          "iopub.execute_input": "2025-05-05T06:49:59.262153Z",
          "iopub.status.idle": "2025-05-05T06:49:59.331741Z",
          "shell.execute_reply.started": "2025-05-05T06:49:59.262134Z",
          "shell.execute_reply": "2025-05-05T06:49:59.330787Z"
        },
        "id": "r5JqdnkE38BN"
      },
      "outputs": [],
      "execution_count": null
    },
    {
      "cell_type": "code",
      "source": [
        "# Next, text preprocessing is carried out\n",
        "stemmer = SnowballStemmer('english')\n",
        "\n",
        "# Part-of-speech normalization process\n",
        "def str_stemmer(s):\n",
        "    return \" \".join([stemmer.stem(word) for word in s.lower().split()])\n",
        "\n",
        "# To calculate the validity of keywords, see how many times the words appear\n",
        "def str_common_word(str1, str2):\n",
        "    return sum(int(str2.find(word) >= 0) for word in str1.split())"
      ],
      "metadata": {
        "trusted": true,
        "execution": {
          "iopub.status.busy": "2025-05-05T06:49:59.921533Z",
          "iopub.execute_input": "2025-05-05T06:49:59.921783Z",
          "iopub.status.idle": "2025-05-05T06:49:59.926344Z",
          "shell.execute_reply.started": "2025-05-05T06:49:59.921767Z",
          "shell.execute_reply": "2025-05-05T06:49:59.925621Z"
        },
        "id": "qfzPj87738BN"
      },
      "outputs": [],
      "execution_count": null
    },
    {
      "cell_type": "code",
      "source": [
        "# Unify the word forms of all text data\n",
        "df_all['search_term'] = df_all['search_term'].map(lambda x : str_stemmer(x))\n",
        "\n",
        "df_all['product_title'] = df_all['product_title'].map(lambda x : str_stemmer(x))\n",
        "\n",
        "df_all['product_description'] = df_all['product_description'].map(lambda x : str_stemmer(x))"
      ],
      "metadata": {
        "trusted": true,
        "execution": {
          "iopub.status.busy": "2025-05-05T06:50:00.401513Z",
          "iopub.execute_input": "2025-05-05T06:50:00.401741Z",
          "iopub.status.idle": "2025-05-05T06:54:41.18072Z",
          "shell.execute_reply.started": "2025-05-05T06:50:00.401726Z",
          "shell.execute_reply": "2025-05-05T06:54:41.179629Z"
        },
        "id": "sa0S2R_x38BN"
      },
      "outputs": [],
      "execution_count": null
    },
    {
      "cell_type": "code",
      "source": [
        "!pip install python-Levenshtein\n",
        "import Levenshtein\n",
        "\n",
        "Levenshtein.ratio('hello', 'hello world')"
      ],
      "metadata": {
        "trusted": true,
        "execution": {
          "iopub.status.busy": "2025-05-05T06:54:41.18199Z",
          "iopub.execute_input": "2025-05-05T06:54:41.182292Z",
          "iopub.status.idle": "2025-05-05T06:54:47.543673Z",
          "shell.execute_reply.started": "2025-05-05T06:54:41.182274Z",
          "shell.execute_reply": "2025-05-05T06:54:47.542851Z"
        },
        "id": "7F9eUh-A38BN"
      },
      "outputs": [],
      "execution_count": null
    },
    {
      "cell_type": "code",
      "source": [
        "df_all['dist_in_title'] = df_all.apply(lambda x : Levenshtein.ratio(x['search_term'], x['product_title']), axis = 1)\n",
        "\n",
        "df_all['dist_in_desc'] = df_all.apply(lambda x : Levenshtein.ratio(x['search_term'], x['product_description']), axis = 1)"
      ],
      "metadata": {
        "trusted": true,
        "execution": {
          "iopub.status.busy": "2025-05-05T06:54:47.544696Z",
          "iopub.execute_input": "2025-05-05T06:54:47.544988Z",
          "iopub.status.idle": "2025-05-05T06:54:51.23377Z",
          "shell.execute_reply.started": "2025-05-05T06:54:47.544958Z",
          "shell.execute_reply": "2025-05-05T06:54:51.23323Z"
        },
        "id": "t2kTafP638BN"
      },
      "outputs": [],
      "execution_count": null
    },
    {
      "cell_type": "code",
      "source": [
        "df_all['all_texts'] = df_all['product_title'] + ' . ' + df_all['product_description'] + ' . '"
      ],
      "metadata": {
        "trusted": true,
        "execution": {
          "iopub.status.busy": "2025-05-05T06:54:51.235267Z",
          "iopub.execute_input": "2025-05-05T06:54:51.235526Z",
          "iopub.status.idle": "2025-05-05T06:54:51.705664Z",
          "shell.execute_reply.started": "2025-05-05T06:54:51.235508Z",
          "shell.execute_reply": "2025-05-05T06:54:51.705152Z"
        },
        "id": "x3laNP1338BN"
      },
      "outputs": [],
      "execution_count": null
    },
    {
      "cell_type": "code",
      "source": [
        "df_all['all_texts'][:5]"
      ],
      "metadata": {
        "trusted": true,
        "execution": {
          "iopub.status.busy": "2025-05-05T06:54:51.70632Z",
          "iopub.execute_input": "2025-05-05T06:54:51.706591Z",
          "iopub.status.idle": "2025-05-05T06:54:51.712515Z",
          "shell.execute_reply.started": "2025-05-05T06:54:51.70655Z",
          "shell.execute_reply": "2025-05-05T06:54:51.711867Z"
        },
        "id": "VR2kvuGD38BN"
      },
      "outputs": [],
      "execution_count": null
    },
    {
      "cell_type": "code",
      "source": [
        "# Establish a corpus\n",
        "from gensim.utils import tokenize\n",
        "from gensim.corpora.dictionary import Dictionary\n",
        "dictionary = Dictionary(list(tokenize(x, errors = 'ignore')) for x in df_all['all_texts'].values)\n",
        "print(dictionary)"
      ],
      "metadata": {
        "trusted": true,
        "execution": {
          "iopub.status.busy": "2025-05-05T06:54:51.713282Z",
          "iopub.execute_input": "2025-05-05T06:54:51.713501Z",
          "iopub.status.idle": "2025-05-05T06:56:11.186141Z",
          "shell.execute_reply.started": "2025-05-05T06:54:51.713482Z",
          "shell.execute_reply": "2025-05-05T06:56:11.185508Z"
        },
        "id": "mhH9tnqD38BN"
      },
      "outputs": [],
      "execution_count": null
    },
    {
      "cell_type": "code",
      "source": [
        "class MyCorpus(object):\n",
        "    def __iter__(self):\n",
        "        for x in df_all['all_texts'].values:\n",
        "            yield dictionary.doc2bow(list(tokenize(x, errors = 'ignore')))\n",
        "\n",
        "corpus = MyCorpus()"
      ],
      "metadata": {
        "trusted": true,
        "execution": {
          "iopub.status.busy": "2025-05-05T06:56:11.186925Z",
          "iopub.execute_input": "2025-05-05T06:56:11.187946Z",
          "iopub.status.idle": "2025-05-05T06:56:11.191721Z",
          "shell.execute_reply.started": "2025-05-05T06:56:11.187921Z",
          "shell.execute_reply": "2025-05-05T06:56:11.191159Z"
        },
        "id": "0E5uCgSj38BO"
      },
      "outputs": [],
      "execution_count": null
    },
    {
      "cell_type": "code",
      "source": [
        "from gensim.models.tfidfmodel import TfidfModel\n",
        "tfidf = TfidfModel(corpus)\n",
        "\n",
        "tfidf[dictionary.doc2bow(list(tokenize('hello world, good morning', errors = 'ignore')))]"
      ],
      "metadata": {
        "trusted": true,
        "execution": {
          "iopub.status.busy": "2025-05-05T06:56:11.192287Z",
          "iopub.execute_input": "2025-05-05T06:56:11.19245Z",
          "iopub.status.idle": "2025-05-05T06:56:53.392519Z",
          "shell.execute_reply.started": "2025-05-05T06:56:11.192436Z",
          "shell.execute_reply": "2025-05-05T06:56:53.391965Z"
        },
        "id": "lpKUO_Uc38BO"
      },
      "outputs": [],
      "execution_count": null
    },
    {
      "cell_type": "code",
      "source": [
        "from gensim.similarities import MatrixSimilarity\n",
        "\n",
        "def to_tfidf(text):\n",
        "    res = tfidf[dictionary.doc2bow(list(tokenize(text, errors = 'ignore')))]\n",
        "    return res\n",
        "\n",
        "def cos_sim(text1, text2):\n",
        "    tfidf1 = to_tfidf(text1)\n",
        "    tfidf2 = to_tfidf(text2)\n",
        "    index = MatrixSimilarity([tfidf1], num_features = len(dictionary))\n",
        "    sim = index[tfidf2]\n",
        "    return float(sim[0])"
      ],
      "metadata": {
        "trusted": true,
        "execution": {
          "iopub.status.busy": "2025-05-05T06:56:53.393236Z",
          "iopub.execute_input": "2025-05-05T06:56:53.393441Z",
          "iopub.status.idle": "2025-05-05T06:56:53.397959Z",
          "shell.execute_reply.started": "2025-05-05T06:56:53.393424Z",
          "shell.execute_reply": "2025-05-05T06:56:53.397316Z"
        },
        "id": "rRnws8IC38BO"
      },
      "outputs": [],
      "execution_count": null
    },
    {
      "cell_type": "code",
      "source": [
        "text1 = 'hello world'\n",
        "text2 = 'hello from the other side'\n",
        "cos_sim(text1, text2)"
      ],
      "metadata": {
        "trusted": true,
        "execution": {
          "iopub.status.busy": "2025-05-05T06:56:53.400688Z",
          "iopub.execute_input": "2025-05-05T06:56:53.400937Z",
          "iopub.status.idle": "2025-05-05T06:56:53.415889Z",
          "shell.execute_reply.started": "2025-05-05T06:56:53.400923Z",
          "shell.execute_reply": "2025-05-05T06:56:53.415309Z"
        },
        "id": "cTeD0ZVt38BO"
      },
      "outputs": [],
      "execution_count": null
    },
    {
      "cell_type": "code",
      "source": [
        "df_all['tfidf_cos_sim_in_title'] = df_all.apply(lambda x : cos_sim(x['search_term'], x['product_title']), axis = 1)"
      ],
      "metadata": {
        "trusted": true,
        "execution": {
          "iopub.status.busy": "2025-05-05T06:56:53.416664Z",
          "iopub.execute_input": "2025-05-05T06:56:53.41692Z",
          "iopub.status.idle": "2025-05-05T07:00:51.387992Z",
          "shell.execute_reply.started": "2025-05-05T06:56:53.416898Z",
          "shell.execute_reply": "2025-05-05T07:00:51.387224Z"
        },
        "id": "Ty1lrgzb38BO"
      },
      "outputs": [],
      "execution_count": null
    },
    {
      "cell_type": "code",
      "source": [
        "df_all['tfidf_cos_sim_in_title'][:5]"
      ],
      "metadata": {
        "trusted": true,
        "execution": {
          "iopub.status.busy": "2025-05-05T07:00:51.388815Z",
          "iopub.execute_input": "2025-05-05T07:00:51.389065Z",
          "iopub.status.idle": "2025-05-05T07:00:51.394734Z",
          "shell.execute_reply.started": "2025-05-05T07:00:51.389041Z",
          "shell.execute_reply": "2025-05-05T07:00:51.394094Z"
        },
        "id": "Q8k628To38BO"
      },
      "outputs": [],
      "execution_count": null
    },
    {
      "cell_type": "code",
      "source": [
        "df_all['tfidf_cos_sim_in_desc'] = df_all.apply(lambda x : cos_sim(x['search_term'], x['product_description']), axis = 1)"
      ],
      "metadata": {
        "trusted": true,
        "execution": {
          "iopub.status.busy": "2025-05-05T07:00:51.395468Z",
          "iopub.execute_input": "2025-05-05T07:00:51.395717Z",
          "iopub.status.idle": "2025-05-05T07:06:04.73412Z",
          "shell.execute_reply.started": "2025-05-05T07:00:51.395703Z",
          "shell.execute_reply": "2025-05-05T07:06:04.733556Z"
        },
        "id": "HvW0pBbK38BO"
      },
      "outputs": [],
      "execution_count": null
    },
    {
      "cell_type": "code",
      "source": [
        "import nltk\n",
        "\n",
        "tokenizer = nltk.data.load('tokenizers/punkt/english.pickle')\n",
        "tokenizer.tokenize(df_all['all_texts'].values[0])"
      ],
      "metadata": {
        "trusted": true,
        "execution": {
          "iopub.status.busy": "2025-05-05T07:06:04.734901Z",
          "iopub.execute_input": "2025-05-05T07:06:04.735116Z",
          "iopub.status.idle": "2025-05-05T07:06:04.77388Z",
          "shell.execute_reply.started": "2025-05-05T07:06:04.735099Z",
          "shell.execute_reply": "2025-05-05T07:06:04.773313Z"
        },
        "id": "m8vfOq7G38BO"
      },
      "outputs": [],
      "execution_count": null
    },
    {
      "cell_type": "code",
      "source": [
        "sentences = [tokenizer.tokenize(x) for x in df_all['all_texts'].values]\n",
        "sentences = [y for x in sentences for y in x]\n",
        "len(sentences)"
      ],
      "metadata": {
        "trusted": true,
        "execution": {
          "iopub.status.busy": "2025-05-05T07:06:04.774527Z",
          "iopub.execute_input": "2025-05-05T07:06:04.774768Z",
          "iopub.status.idle": "2025-05-05T07:06:35.441176Z",
          "shell.execute_reply.started": "2025-05-05T07:06:04.77475Z",
          "shell.execute_reply": "2025-05-05T07:06:35.440409Z"
        },
        "id": "bqPaPScs38BO"
      },
      "outputs": [],
      "execution_count": null
    },
    {
      "cell_type": "code",
      "source": [
        "from nltk.tokenize import word_tokenize\n",
        "w2v_corpus = [word_tokenize(x) for x in sentences]"
      ],
      "metadata": {
        "trusted": true,
        "execution": {
          "iopub.status.busy": "2025-05-05T07:06:35.442023Z",
          "iopub.execute_input": "2025-05-05T07:06:35.44273Z",
          "iopub.status.idle": "2025-05-05T07:09:30.952196Z",
          "shell.execute_reply.started": "2025-05-05T07:06:35.442711Z",
          "shell.execute_reply": "2025-05-05T07:09:30.951373Z"
        },
        "id": "DD5PAkkJ38BO"
      },
      "outputs": [],
      "execution_count": null
    },
    {
      "cell_type": "code",
      "source": [
        "from gensim.models.word2vec import Word2Vec\n",
        "\n",
        "model = Word2Vec(w2v_corpus, vector_size = 128, window = 5, min_count = 5, workers = 4)"
      ],
      "metadata": {
        "trusted": true,
        "execution": {
          "iopub.status.busy": "2025-05-05T07:09:30.952963Z",
          "iopub.execute_input": "2025-05-05T07:09:30.953214Z",
          "iopub.status.idle": "2025-05-05T07:11:45.695897Z",
          "shell.execute_reply.started": "2025-05-05T07:09:30.953193Z",
          "shell.execute_reply": "2025-05-05T07:11:45.695259Z"
        },
        "id": "6wt_iJf338BO"
      },
      "outputs": [],
      "execution_count": null
    },
    {
      "cell_type": "code",
      "source": [
        "model.wv['right']"
      ],
      "metadata": {
        "trusted": true,
        "execution": {
          "iopub.status.busy": "2025-05-05T07:11:45.69667Z",
          "iopub.execute_input": "2025-05-05T07:11:45.696924Z",
          "iopub.status.idle": "2025-05-05T07:11:45.70269Z",
          "shell.execute_reply.started": "2025-05-05T07:11:45.6969Z",
          "shell.execute_reply": "2025-05-05T07:11:45.702069Z"
        },
        "id": "hkraKz6238BO"
      },
      "outputs": [],
      "execution_count": null
    },
    {
      "cell_type": "code",
      "source": [
        "vocab = model.wv.key_to_index\n",
        "\n",
        "def get_vector(text):\n",
        "    res = np.zeros(128)\n",
        "    count = 0\n",
        "    for word in word_tokenize(text):\n",
        "        if word in model.wv:\n",
        "            res += model.wv[word]\n",
        "            count += 1\n",
        "    return res / count if count > 0 else res"
      ],
      "metadata": {
        "trusted": true,
        "execution": {
          "iopub.status.busy": "2025-05-05T07:11:45.703343Z",
          "iopub.execute_input": "2025-05-05T07:11:45.703589Z",
          "iopub.status.idle": "2025-05-05T07:11:45.717374Z",
          "shell.execute_reply.started": "2025-05-05T07:11:45.703555Z",
          "shell.execute_reply": "2025-05-05T07:11:45.716871Z"
        },
        "id": "YCWLkeRv38BO"
      },
      "outputs": [],
      "execution_count": null
    },
    {
      "cell_type": "code",
      "source": [
        "from scipy import spatial\n",
        "\n",
        "def w2v_cos_sim(text1, text2):\n",
        "    try:\n",
        "        w2v1 = get_vector(text1)\n",
        "        w2v2 = get_vector(text2)\n",
        "        sim = 1 - spatial.distance.cosine(w2v1, w2v2)\n",
        "        return float(sim)\n",
        "    except:\n",
        "        return float(0)"
      ],
      "metadata": {
        "trusted": true,
        "execution": {
          "iopub.status.busy": "2025-05-05T07:11:45.718208Z",
          "iopub.execute_input": "2025-05-05T07:11:45.718475Z",
          "iopub.status.idle": "2025-05-05T07:11:45.733154Z",
          "shell.execute_reply.started": "2025-05-05T07:11:45.718454Z",
          "shell.execute_reply": "2025-05-05T07:11:45.732581Z"
        },
        "id": "tTeRN0cD38BO"
      },
      "outputs": [],
      "execution_count": null
    },
    {
      "cell_type": "code",
      "source": [
        "w2v_cos_sim('hello world', 'hello from the other size')"
      ],
      "metadata": {
        "trusted": true,
        "execution": {
          "iopub.status.busy": "2025-05-05T07:11:45.733791Z",
          "iopub.execute_input": "2025-05-05T07:11:45.73397Z",
          "iopub.status.idle": "2025-05-05T07:11:45.758787Z",
          "shell.execute_reply.started": "2025-05-05T07:11:45.733956Z",
          "shell.execute_reply": "2025-05-05T07:11:45.758245Z"
        },
        "id": "G7BNy-6D38BO"
      },
      "outputs": [],
      "execution_count": null
    },
    {
      "cell_type": "code",
      "source": [
        "df_all['w2v_cos_sim_in_title'] = df_all.apply(lambda x : w2v_cos_sim(x['search_term'], x['product_title']), axis = 1)\n",
        "\n",
        "df_all['w2v_cos_sim_in_desc'] = df_all.apply(lambda x : w2v_cos_sim(x['search_term'], x['product_description']), axis = 1)"
      ],
      "metadata": {
        "trusted": true,
        "execution": {
          "iopub.status.busy": "2025-05-05T07:11:45.759379Z",
          "iopub.execute_input": "2025-05-05T07:11:45.759557Z",
          "iopub.status.idle": "2025-05-05T07:17:33.392977Z",
          "shell.execute_reply.started": "2025-05-05T07:11:45.759543Z",
          "shell.execute_reply": "2025-05-05T07:17:33.392218Z"
        },
        "id": "mIoig5wk38BO"
      },
      "outputs": [],
      "execution_count": null
    },
    {
      "cell_type": "code",
      "source": [
        "df_all.head(5)"
      ],
      "metadata": {
        "trusted": true,
        "execution": {
          "iopub.status.busy": "2025-05-05T07:17:33.39378Z",
          "iopub.execute_input": "2025-05-05T07:17:33.394006Z",
          "iopub.status.idle": "2025-05-05T07:17:33.406795Z",
          "shell.execute_reply.started": "2025-05-05T07:17:33.39399Z",
          "shell.execute_reply": "2025-05-05T07:17:33.406109Z"
        },
        "id": "YqPAzYMI38BO"
      },
      "outputs": [],
      "execution_count": null
    },
    {
      "cell_type": "code",
      "source": [
        "# Next, the columns that cannot be processed by the machine learning model will be droped\n",
        "df_all = df_all.drop(['search_term', 'product_title', 'product_description', 'all_texts'], axis = 1)"
      ],
      "metadata": {
        "trusted": true,
        "execution": {
          "iopub.status.busy": "2025-05-05T07:17:33.4074Z",
          "iopub.execute_input": "2025-05-05T07:17:33.407634Z",
          "iopub.status.idle": "2025-05-05T07:17:33.448989Z",
          "shell.execute_reply.started": "2025-05-05T07:17:33.407618Z",
          "shell.execute_reply": "2025-05-05T07:17:33.448482Z"
        },
        "id": "F8A9eQV138BO"
      },
      "outputs": [],
      "execution_count": null
    },
    {
      "cell_type": "code",
      "source": [
        "# reshape the train/data set\n",
        "df_train = df_all.loc[df_train.index]\n",
        "df_test = df_all.loc[df_test.index]"
      ],
      "metadata": {
        "trusted": true,
        "execution": {
          "iopub.status.busy": "2025-05-05T07:17:33.449613Z",
          "iopub.execute_input": "2025-05-05T07:17:33.449845Z",
          "iopub.status.idle": "2025-05-05T07:17:33.494257Z",
          "shell.execute_reply.started": "2025-05-05T07:17:33.44983Z",
          "shell.execute_reply": "2025-05-05T07:17:33.493543Z"
        },
        "id": "bkZ-rm6138BO"
      },
      "outputs": [],
      "execution_count": null
    },
    {
      "cell_type": "code",
      "source": [
        "# Record the test set id\n",
        "test_ids = df_test['id']"
      ],
      "metadata": {
        "trusted": true,
        "execution": {
          "iopub.status.busy": "2025-05-05T07:17:33.495064Z",
          "iopub.execute_input": "2025-05-05T07:17:33.495372Z",
          "iopub.status.idle": "2025-05-05T07:17:33.499977Z",
          "shell.execute_reply.started": "2025-05-05T07:17:33.495355Z",
          "shell.execute_reply": "2025-05-05T07:17:33.499001Z"
        },
        "id": "c2cXpOKd38BO"
      },
      "outputs": [],
      "execution_count": null
    },
    {
      "cell_type": "code",
      "source": [
        "y_train = df_train['relevance'].values\n",
        "X_train = df_train.drop(['id', 'relevance'], axis = 1).values\n",
        "X_test = df_test.drop(['id', 'relevance'], axis = 1).values"
      ],
      "metadata": {
        "trusted": true,
        "execution": {
          "iopub.status.busy": "2025-05-05T07:17:33.500955Z",
          "iopub.execute_input": "2025-05-05T07:17:33.501196Z",
          "iopub.status.idle": "2025-05-05T07:17:33.536019Z",
          "shell.execute_reply.started": "2025-05-05T07:17:33.501173Z",
          "shell.execute_reply": "2025-05-05T07:17:33.535189Z"
        },
        "id": "06-JosNk38BO"
      },
      "outputs": [],
      "execution_count": null
    },
    {
      "cell_type": "code",
      "source": [
        "# Establish the Ridge model and debug the alpha value\n",
        "\n",
        "from sklearn.impute import SimpleImputer\n",
        "\n",
        "if not isinstance(X_train, pd.DataFrame):\n",
        "    X_train = pd.DataFrame(X_train)\n",
        "if not isinstance(y_train, pd.Series):\n",
        "    y_train = pd.Series(y_train)\n",
        "if not isinstance(X_test, pd.DataFrame):\n",
        "    X_test = pd.DataFrame(X_test)\n",
        "\n",
        "imputer = SimpleImputer(strategy='median')\n",
        "X_train = pd.DataFrame(imputer.fit_transform(X_train), columns=X_train.columns)\n",
        "X_test = pd.DataFrame(imputer.transform(X_test), columns=X_test.columns)\n",
        "\n",
        "from sklearn.model_selection import cross_val_score\n",
        "\n",
        "params = [1, 3, 5, 6, 7, 8, 9, 10]\n",
        "test_scores = []\n",
        "for param in params:\n",
        "    clf = RandomForestRegressor(n_estimators = 30, max_depth = param)\n",
        "    test_score = np.sqrt(-cross_val_score(clf, X_train, y_train, cv = 5, scoring = 'neg_mean_squared_error'))\n",
        "    test_scores.append(np.mean(test_score))\n",
        "\n",
        "plt.plot(params, test_scores)\n",
        "plt.title(\"Param vs CV Error\")"
      ],
      "metadata": {
        "trusted": true,
        "execution": {
          "iopub.status.busy": "2025-05-05T07:26:35.384409Z",
          "iopub.execute_input": "2025-05-05T07:26:35.3847Z",
          "iopub.status.idle": "2025-05-05T07:29:50.235197Z",
          "shell.execute_reply.started": "2025-05-05T07:26:35.384681Z",
          "shell.execute_reply": "2025-05-05T07:29:50.234441Z"
        },
        "id": "_X0VeYnD38BO"
      },
      "outputs": [],
      "execution_count": null
    },
    {
      "cell_type": "code",
      "source": [
        "# Upload the result\n",
        "import os\n",
        "\n",
        "os.makedirs('/kaggle/working/', exist_ok=True)\n",
        "\n",
        "rf = RandomForestRegressor(n_estimators=30, max_depth=8)\n",
        "rf.fit(X_train, y_train)\n",
        "\n",
        "y_pred = rf.predict(X_test)\n",
        "\n",
        "output_path = '/kaggle/working/submission.csv'\n",
        "pd.DataFrame({\"id\": test_ids, \"relevance\": y_pred}).to_csv(output_path, index=False)"
      ],
      "metadata": {
        "trusted": true,
        "execution": {
          "iopub.status.busy": "2025-05-05T07:29:50.236276Z",
          "iopub.execute_input": "2025-05-05T07:29:50.23656Z",
          "iopub.status.idle": "2025-05-05T07:29:58.718289Z",
          "shell.execute_reply.started": "2025-05-05T07:29:50.236534Z",
          "shell.execute_reply": "2025-05-05T07:29:58.717535Z"
        },
        "id": "knuUNwpU38BS"
      },
      "outputs": [],
      "execution_count": null
    },
    {
      "cell_type": "code",
      "source": [],
      "metadata": {
        "trusted": true,
        "id": "X-HIt2RV38BS"
      },
      "outputs": [],
      "execution_count": null
    }
  ]
}